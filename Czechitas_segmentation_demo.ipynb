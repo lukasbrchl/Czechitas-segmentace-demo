{
  "nbformat": 4,
  "nbformat_minor": 0,
  "metadata": {
    "kernelspec": {
      "display_name": "Python 3",
      "language": "python",
      "name": "python3"
    },
    "language_info": {
      "codemirror_mode": {
        "name": "ipython",
        "version": 3
      },
      "file_extension": ".py",
      "mimetype": "text/x-python",
      "name": "python",
      "nbconvert_exporter": "python",
      "pygments_lexer": "ipython3",
      "version": "3.6.6"
    },
    "colab": {
      "name": "Czechitas-segmentation-demo.ipynb",
      "provenance": [],
      "collapsed_sections": [],
      "include_colab_link": true
    }
  },
  "cells": [
    {
      "cell_type": "markdown",
      "metadata": {
        "id": "view-in-github",
        "colab_type": "text"
      },
      "source": [
        "<a href=\"https://colab.research.google.com/github/lukasbrchl/Czechitas-segmentace-demo/blob/master/Czechitas_segmentation_demo.ipynb\" target=\"_parent\"><img src=\"https://colab.research.google.com/assets/colab-badge.svg\" alt=\"Open In Colab\"/></a>"
      ]
    },
    {
      "cell_type": "markdown",
      "metadata": {
        "id": "jRsGTNEdJkhv",
        "colab_type": "text"
      },
      "source": [
        "# Ukázka využití průmyslové kamery a osvětlení pro úlohu segmentace objektů dle barev\n",
        "Cvičení si pro vás připravila Laboratoř zpracování obrazu - [ImproLab](https://fit.cvut.cz/cs/veda-a-vyzkum/zazemi/laboratore/8357-laborator-zpracovani-obrazu) na [Fakultě informačních technologií ČVUT v Praze](https://fit.cvut.cz/cs). \n",
        "\n",
        "Naším cílem je **vytvářet řešení reálných problémů**. Jednou z hlavních aktivit laboratoře je tedy spolupráce s praxí. \n"
      ]
    },
    {
      "cell_type": "markdown",
      "metadata": {
        "id": "d2MXlo2u1yc7",
        "colab_type": "text"
      },
      "source": [
        "Využití kamer v průmyslu je v současnosti důležitým způsobem **automatizace** v továrnách. Kamera je schopna nahradit člověka při **vyhodnocování kvality** vytvořených výrobků a dodat systému důležité **objektivní rozhodování** za jakékoli situace.\n",
        "<center><img src=\"https://images.squarespace-cdn.com/content/v1/5a850b55017db20aff4b96c4/1581216076561-FQJKGMAMUGT9EOJ1QOWV/ke17ZwdGBToddI8pDm48kPg3kkMSlDqGprD-21e6kCJZw-zPPgdn4jUwVcJE1ZvWQUxwkmyExglNqGp0IvTJZamWLI2zvYWH8K3-s_4yszcp2ryTI0HqTOaaUohrI8PIKLQjoMTHEldWYTXK7NhTrQG-VDSQcMX4-xxuKYa_e-c/02.png\" alt=\"the name\" width=\"350\"/></center> \n",
        "\n",
        "Cvičení je zaměřené **na správné využití osvětlení** při nasvícení objektu a následné využití **metod pro segmentaci obrazu** k počítání objektů. Během našeho cvičení budeme snímat barevné objekty. Výsledný snímek by mohl vypadat nějak takto:\n",
        "\n",
        "<center><img src=\"https://raw.githubusercontent.com/ImprolabFIT/Czechitas-segmentace-demo/master/images/lentilky.png\" alt=\"the name\" width=\"350\"/></center> "
      ]
    },
    {
      "cell_type": "markdown",
      "metadata": {
        "id": "EkeoL33CElCP",
        "colab_type": "text"
      },
      "source": [
        "# Stručné představení nástroje Google Colab\n",
        "Online aplikace Google Colab poskytuje pohodlné rozhraní pro spouštění kódu psaného v jazyce Python a zároveň psaní formátovaných textů. To vše v jednom dokumentu a ve virtuálním prostředí. \n",
        "\n",
        "Základím stavebním kamenem Colabu jsou notebooky a vy máte právě otevřený jeden z nich. Notebooky se skládají z jednotlivých buňek, ve kterých jde postupně spoušťet kód. Výsledky jednotlivých buňek jsou ukládaný do paměti a je tedy možné s nimi pracovat napříč celým notebookem. \n",
        "\n",
        "Ke spuštění kódu v Colabu je nejdříve nutné se připojit k vyhodnocvacímu kernelu (vyžaduje přihlášení Google účtem). To lze provést v pravém horním rohu notebooku tlačítkem **Connect**. Jakmile vidíme ve stejném řádku vidíme, že jsme připojeni ke kernelu (zelená fajfka), je možné jednotlivé buňky spouštět následovně: \n",
        "* **Play ikona** v levém rohu každé buňky\n",
        "* **Ctrl+Enter** pro spuštění aktuální buňky \n",
        "* **Shift+Enter** pro spuštění aktuální buňky a přesunutí focusu na další buňku\n",
        "\n",
        "V případě, že se nějaká buňka zasekne, je možné její spuštění ukončit přes nabídku v menu - **Runtime -> Interrupt execution**. Kromě toho je možné i v nabídce **Runtime** restartovat celý kernel, čímž se odstraní všechna uložená data z paměti.\n",
        "\n",
        "*Pro zajímavost:*\n",
        "- Colab notebooky nejsou ve skutečnosti nic jiného než [Jupyter Notebooky](https://nbviewer.jupyter.org/github/ipython/ipython/blob/3.x/examples/Notebook/Index.ipynb) v online prostředí.\n",
        "- Pro psaní formátovaných textů je využit jazyk [Markdown](https://colab.research.google.com/notebooks/markdown_guide.ipynb).\n",
        "\n",
        "\n",
        "\n"
      ]
    },
    {
      "cell_type": "markdown",
      "metadata": {
        "id": "bgiJUfRzEapB",
        "colab_type": "text"
      },
      "source": [
        "# Teoretické základy \n",
        "Ve strojovém vidění se pracuje s několika pojmy, které jsou pro pochopení cvičení důležité. Jsou to tyto:\n",
        "> Segmentace\n",
        "* Je rozdělení obrazu na zajímavé **objekty** a nezajímavé **pozadí**.\n",
        "* Výsledkem je binární (černobílý) obraz, často se mu říká **maska**.\n",
        "<center><img src=\"https://images.deepai.org/converted-papers/1812.10889/figure/appendix-seg-coco-4.jpg\" alt=\"the name\" width=\"800\"/>\n",
        "</center>\n",
        "\n",
        "> Barevný prostor\n",
        "* Je rozdělení každé barvy na 3 části (složky). \n",
        "* Nejčastěji se používá prostor RGB (červená, zelená, modrá).\n",
        "* Další možností je HSV (barevný odstín, sytost barvy, jas).\n",
        "* HSV je **vhodnější** prostor pro segmentaci **pomocí barvy**.\n",
        "<center><img src=\"https://docs.opencv.org/3.4/Threshold_inRange_RGB_colorspace.jpg\" alt=\"the name\" width=\"250\"/><img src=\"https://docs.opencv.org/3.4/Threshold_inRange_HSV_colorspace.jpg\" alt=\"the name\" width=\"250\"/>\n",
        "</center>\n",
        "\n",
        "> Kontury\n",
        "* Jsou **obrysy** binárního obrázku (masky).\n",
        "* Využívají se k porovnávání se známými objekty pomocí tzv. **tvarových charakteristik** (jakými je například **kulatost** nebo **poměr stran**).\n",
        "<center><img src=\"https://www.azilen.com/blog/wp-content/uploads/2017/02/edge_detection.jpg\" alt=\"the name\" width=\"250\"/>\n",
        "</center>\n",
        "\n",
        "> Filtrace\n",
        "* Je **manipulace** s obrázkem s cílem **odstranění drobných vad** pomocí rozmazání obrázku.\n",
        "* Výsledkem je sjednocení hodnot obrázku, který se dále jeví tzv. \"bez šumu\".\n",
        "* Často se jedná o nástroj používaný při tzv. retouchování fotografií.\n",
        "<center><img src=\"https://i.pinimg.com/originals/eb/71/e4/eb71e42ecfc1279d5d3c161bee47a994.jpg\" alt=\"the name\" width=\"400\"/>\n",
        "</center>\n",
        "\n",
        "> Morfologie\n",
        "* Je způsob jak **zmenšovat či zvětšovat** binární masky s cílem odstranění parazitického šumu, který může vzniknout segmentací.\n",
        "* Jedná se tedy o metody pro **vylepšení obrázků** po segmentaci s cílem **lépe spočítat** počet nalezených objektů.\n",
        "<center><img src=\"https://www.mathworks.com/matlabcentral/mlc-downloads/downloads/submissions/54538/versions/1/screenshot.png\" alt=\"the name\" width=\"500\"/>\n",
        "</center>"
      ]
    },
    {
      "cell_type": "markdown",
      "metadata": {
        "id": "kJJFBxwm3Z7C",
        "colab_type": "text"
      },
      "source": [
        "## Možnostni nastavení kamery\n",
        "V rámci tohoto cvičení budeme využívat průmyslové kamery řady Basler ACE. Jejich hlavní výhodou proti jakýmkoliv běžným kamerám je, že poskytují nekomprimovaný výstup a jsou schopny provozu 24/7. Dalším rozdílem je, že proti kamerám např. v mobilních telefonech je nutné průmyslové kamery vhodně nastavit. Nastavení, které ovlivňují výsledný snímek jsou dvojího druhu: **nastavení objektivu** a **nastavení kamery v obslužném software**.\n",
        "\n",
        "### Nastavení objektivu\n",
        "Na objektivu, který máte před sebou, můžete vidět dva pohyblivé prstence. Ten jeden slouží k zaostřování objektivu a ten druhý k změně průměru vnitřní clony. **Pozor, před pohybem jakéhokoliv prstence je vždy nutné povolit aretační šrouby.**\n",
        "\n",
        "<center><img src=\"https://raw.githubusercontent.com/ImprolabFIT/Czechitas-segmentace-demo/master/images/objektiv.png\" alt=\"the name\" width=\"350\"/></center> \n",
        "\n",
        "Pokud bychom byly ve světě běžných kamer, tak se ještě setkáme s nastavením ohniskové vzdálenosti. Ta definuje zorný úhel kamery - jinými slovy, jak moc objektiv přibližuje (optický zoom). V našem případě máme ohniskovou vzdálnost fixní a pro vhodné zachycení chtěných objektů musíme tedy měnit vzdálenost kamery od našeho cíle. To můžeme provést pohybem páky na stojanu s kamerou.\n",
        "<center><img src=\"https://cdn-7.nikon-cdn.com/Images/Learn-Explore/Photography-Techniques/2009/Focal-Length/Media/red-barn-focal-lenght-rep-image.jpg\" alt=\"the name\" width=\"350\"/></center> \n",
        "\n",
        "#### Ostření\n",
        "Většina průmyslových objektivů disponuje pouze manuálním ostřením. To z toho důvodu, protože se předpokládá, že kamera bude umístěna staticky někde v průmyslu a její nastavení se po celou dobu jejího provozu už nebude měnit. Díky absenci automatického ostření je možné mít objektivy levnější a kompaktnější.\n",
        "\n",
        "Pohyb ostřícího prstence upravuje vnitřní rozložení optických členů, což mění rovinu zaostření, které určuje, jaké objekty se na snímku zobrazí dokonale ostře. Rovina zaostření je kolmá k ose objektivu (rovnoběžná se snímačem) a kolem sebe tvoří [hloubku ostrosti](https://cs.wikipedia.org/wiki/Hloubka_ostrosti). Každý objektiv disponuje parametrem minimální pracovní vzdálenost, které specifikuje, na jakou nejbližší vzdálenost je objektiv schopen zaostřit (určuje se od kraje objektivu). \n",
        "\n",
        "#### Změna clony\n",
        "Clona je mechanickou součástí všech objektivů. Určuje, kolik světla objektiv propustí a nechá dopadnout na snímač. Clona může být buď fixní (např. v telefonech) nebo nastavitelná (zrcadlovky, průmyslové kamery, ...). Nastavení clony se vyjadřuje pomocí clonového čísla a značí se písmenem *f*. Typické hodnoty clonováho čísla jsou mezi f/1,4 a f/22 (v závislosti na snímači a objektivu). \n",
        "\n",
        "**Čím nižší je clonové číslo, tím více je clona otevřená a tím dopadá více světla na snímač.** Zároveň čím vyšší je clonové číslo, tím větší je [hloubka ostrosti](https://cs.wikipedia.org/wiki/Hloubka_ostrosti). Nejnižší možné clonové číslo je vždy spolu s ohniskovou vzdáleností zobrazeno na objektivu.\n",
        "\n",
        "<center> <img src=\"https://www.slrlounge.com/wp-content/uploads/2018/05/lens-aperture-stop-down-diaphragm-animation.gif?x21004\" alt=\"the name\" width=\"250\"/>\n",
        "<img src=\"https://stuequip.files.wordpress.com/2016/03/depth-of-field.gif\" alt=\"the name\" width=\"250\"/></center>\n",
        "\n",
        "\n",
        "### Nastavení kamery v obslužném software\n",
        "Pro získávání snímků z kamery a její konfiguraci využijeme software od výrobce zvaný [Pylon Viewer](https://docs.baslerweb.com/overview-of-the-pylon-viewer). Ten máte na svém PC nainstalovaný a stačí jej tedy spustit. \n",
        "\n",
        "Po připojení kamery do sítě, je možné v panelu *Devices* kameru vybrat a připojit se k jejímu rozhraní. Následně je možné zahájit přenos dat skrze kliknutí na ikonku kamery **Continuous Shot**. Snímky je pak možné pomocí tlačítka **Save** ukládat do počítače.\n",
        "\n",
        "Důležitým prvkem je pro nás panel *Features*, který slouží k nastavení parametrů kamery pomocí GUI prvků. Můžeme zde nastavovat věci od rozměru snímků, přes nastavení expozičního času až po snímkovací frekvenci. Relevantní nastavení pro tuto úlohu jsou popsány níže. Jednotlivá nastavení je lepší vyhledávat dle klíčových slov. \n",
        "\n",
        "**Pozor, slidery u některých nastavení nefungují úplně korektně. Je lepší hodnoty zadávat ručně.**\n",
        "\n",
        "<center><img src=\"https://raw.githubusercontent.com/ImprolabFIT/BI-SVZ-coursework/master/tutorials/images/animation_setting_parameters.gif\" alt=\"the name\" width=\"250\"/></center>\n",
        "\n",
        "#### Nastavení expozičního času\n",
        "Expoziční čas určuje, jak dlouho je otevřena závěrka kamery, což opět ovlivňuje množství světla, které dopadá na snímač. Kromě toho je expoziční čas zodpovědný za to, jak rychlý pohyb jsme schopni zaznamenávat - *čím kratší čas, tím rychlejší pohyb*. Nicméně vzhledem k faktu, že snímáme statický objekt, tak můžeme toto kritérium nyní opomenout.\n",
        "\n",
        "<center><img src=\"https://upload.wikimedia.org/wikipedia/commons/8/81/Appearance_of_the_shutter_at_various_speeds.gif\" alt=\"the name\" width=\"250\"/></center>\n",
        "\n",
        "**Čím kratší je expoziční čas (rychlejší zavírání závěrky, nižší hodnota expozičního času), tím více dopadá světla na snímač a tím je snímek světlejší.** Nastavení expozičního času v Pylonu lze vyhledat pod klíčovým slovem **Exposure Time**. Pokud jej nastavovat ručně nechceme, můžeme nastavit parametr **Exposure Auto** na hodnotu *Continuous*.\n",
        "\n",
        "#### Nastavení zesílení\n",
        "Zesílení je kromě nastavení expozičního času a clony jedním z hlavních parametrů, které majoritně ovlivňují výsledný jas zaznamenaného snímku. Zesílení je aplikované na jednotlivéh hodnoty pixelů přímo na snímači, ještě před jejich převodem z analogového signálu na digitální. Hodnoty zesílení jsou udávaný  v decibelech.\n",
        "\n",
        "**Čím vyšší je hodnota zesílení, tím vyšší aplikujeme zesílení a tím je snímek světlejší.** Nastavení zesílení v Pylonu lze vyhledat pod klíčovým slovem **Gain**. Pokud jej nastavovat ručně nechceme, můžeme nastavit parametr **Gain Auto** na hodnotu *Continuous*.\n",
        "\n",
        "#### Nastavení vyvážení bíle \n",
        "Vyvážení bílé je nastavení, které se snaží korigovat aktuální světelné podmínky scény tak, aby se snímaný objektic co nejvíce shodoval s tím, jak jej vidí lidské oko. Správné nastavení vyvážení bílé poznáme tím, že bílá tabulka, které je před vámí nemá odstín modré nebo žluté.\n",
        "\n",
        "Nastavení vyvážení bíle v Pylonu lze vyhledat pod klíčovým slovem **Balance White**. Pokud chceme, aby korekce probíhala kontinuálně, nastavíme hodnotu *Continuous*. Pro jednorázové nastavení zvolíme *Once* \n",
        "\n",
        "## Shrnutí nastavení kamery a objektivu\n",
        "Před jakýmkoliv nastavení je nutné připojit kameru v Pylonu a zapnout si náhled snímání. Následně se můžeme řídit dle předem dané kuchařky:\n",
        "- Nastavíme stojan do vhodné pracovná vzdálenosti, aby kamera snímala chtěnou scénu.\n",
        "- Objektiv manuálně zaostříme prstencem na vhodnou rovinu ostrosti, aby byl objekt ostrý.\n",
        "- Na objektivu nastavíme clonu, aby na snímač dopadalo dostatečné množství světla.\n",
        "- Příliš tmavý snímek dále korigujeme nastavením expozičního času nebo zesílení.\n",
        "- Po nastavení vhodné expozice vyvážíme bílou.\n"
      ]
    },
    {
      "cell_type": "markdown",
      "metadata": {
        "id": "4FvGMAz5FFqq",
        "colab_type": "text"
      },
      "source": [
        "![alt text](https://miro.medium.com/max/7086/1*RFGpyX7CRLOwjdQyXIWJPw.png)"
      ]
    },
    {
      "cell_type": "markdown",
      "metadata": {
        "id": "2LzkDuEwzUc0",
        "colab_type": "text"
      },
      "source": [
        "# Programovací úloha - zpracování obrázku\n",
        "Úkolem programovací úlohy je vhodně doplnit části kódu tak, aby se volali předem připravené funkce pro segmentaci obrazu a bylo možné spočítat, kolik se na obrázku vyskytuje objektů dané barvy. **Výběr barvy objektu je ponechán na vás**, důležité však je, aby barva byla pouze jedna a objektů na snímku bylo více než jeden.\n",
        "\n",
        "Segmentaci objektů je vhodné provádět nad jiným barevným spektrem než je RGB a to konkrétně v barveném prostoru HSV. Následně se nad binárním objektem detekují kontury, které je vhodné od sebe ještě oddělit pomocí morfologických metod. Poté už zbývá kontury pouze sečíst a případně vizualizovat výsledné započtené objekty.  \n"
      ]
    },
    {
      "cell_type": "markdown",
      "metadata": {
        "id": "XSHJFGdfJkhw",
        "colab_type": "text"
      },
      "source": [
        "## Import knihoven a konfigurace\n",
        "Tato sekce slouží k importování potřebných Python knihoven, které nám usnadní operace týkající se zpracování obrazu a jeho následné vizualizace. Konkrétně se jedná o import: \n",
        "- [NumPy](https://numpy.org/) - knihovna, která obsahuje funkce pro práci s vektory, maticemi a vícerozměrnými poli.\n",
        "- [matplotlib](https://matplotlib.org/) - knihovna, která poskytuje snadné rozhraní pro vykreslování velkého množství statických i dynamických vizualizací.\n",
        "- [OpenCV](https://opencv.org/) - nejpoužívanější multiplatformní knihovna obsahující širokou škálu algoritmů vhodných pro strojové/počítačové vidění.\n"
      ]
    },
    {
      "cell_type": "code",
      "metadata": {
        "ExecuteTime": {
          "end_time": "2019-08-19T13:44:54.548283Z",
          "start_time": "2019-08-19T13:44:53.106100Z"
        },
        "id": "L0GJvQBEJkhx",
        "colab_type": "code",
        "colab": {}
      },
      "source": [
        "import numpy as np\n",
        "import matplotlib\n",
        "import matplotlib.pyplot as plt\n",
        "import cv2 as cv\n",
        "\n",
        "from google.colab import files\n",
        "\n",
        "%matplotlib inline"
      ],
      "execution_count": 1,
      "outputs": []
    },
    {
      "cell_type": "markdown",
      "metadata": {
        "id": "dBRnQUl-G7Zn",
        "colab_type": "text"
      },
      "source": [
        "## Pomocné funkce\n",
        "V této sekci lze nalézt implementaci potřebných pomocných funkcí, které je nutné vhodně použít ke splněný předem daných úkolů. Funkce stačí pouze vhodně použít na správném místě se správnými parametry. Není nutné chápat jejich vnitřní fungování. Jejich seznam je: \n",
        "- `plot_images(...)`\n",
        "  - slouží k zobrazení vstupního obrázku pomocí knihovny matplotlib\n",
        "- `to_hsv(...)`\n",
        "  - převede snímek z barevného prostoru [RGB](https://cs.wikipedia.org/wiki/RGB) do prostoru [HSV](https://cs.wikipedia.org/wiki/HSV)  \n",
        "- `segmentation_two_thresholds(...)`\n",
        "  - segmentuje obraz na objekty a pozadí, kde objekty leží mezi dvěma zvolenými prahy\n",
        "- `find_contours(...)` \n",
        "  - nalezne obrysy objektů na binárním obrázku\n",
        "- `filtration_median(...)`\n",
        "  - filtruje drobné vady v obrázku a sjednocuje tím tak hodnoty mezi sebou\n",
        "- `m_increase(...)` \n",
        "  - zvětšení binárního objektu\n",
        "- `m_decrease(...)` \n",
        "  - zmenšení binárního objektu\n",
        "- `roundness(...)`\n",
        "  - spočte kulatost kontury objektu neboli řekne, jak moc je objekt kulatý na škále od 0 do 1"
      ]
    },
    {
      "cell_type": "code",
      "metadata": {
        "id": "O7neEo3xHI6c",
        "colab_type": "code",
        "colab": {}
      },
      "source": [
        "def plot_image(img):\n",
        "    if img is None:\n",
        "      raise ValueError(\"Input image shouldn't be empty\")\n",
        "\n",
        "    f = plt.figure(figsize=(15, 15))\n",
        "    # OpenCV works internally with BGR format instead of RGB\n",
        "    imgrgb = cv.cvtColor(img, cv.COLOR_BGR2RGB)\n",
        "    plt.imshow(imgrgb)\n",
        "    plt.show()\n",
        "\n",
        "def to_hsv(img):\n",
        "    ''' Converts image to HSV (hue, saturation, value) color space.\n",
        "    \n",
        "    Parameters\n",
        "    ----------\n",
        "    img : numpy.ndarray\n",
        "        Input image.\n",
        "    Returns\n",
        "    -------\n",
        "    Ouput image.\n",
        "    '''\n",
        "    dst = cv.cvtColor(img, cv.COLOR_BGR2HSV)\n",
        "    return dst\n",
        "\n",
        "def filtration_median(img, filter_size):\n",
        "    '''Filters image noise using median algorithm\n",
        "    \n",
        "    Parameters\n",
        "    ----------\n",
        "    img : numpy.ndarray\n",
        "        Input image.\n",
        "    filter_size : int\n",
        "        Size of median filter.\n",
        "    Returns\n",
        "    -------\n",
        "    Ouput image.\n",
        "    '''\n",
        "    return cv.medianBlur(img, filter_size) \n",
        "\n",
        "def segmentation_two_thresholds(img, lower, higher):\n",
        "    '''Segments image into black & white using two thresholds\n",
        "    \n",
        "    Parameters\n",
        "    ----------\n",
        "    img : numpy.ndarray\n",
        "        Input image.\n",
        "    lower : int\n",
        "        Pixels with value lower than threshold are considered black, the others white.\n",
        "    higher : int\n",
        "        Pixels with value higher than threshold are considered black, the others white.\n",
        "    Returns\n",
        "    -------\n",
        "    Ouput image.\n",
        "    '''\n",
        "    return cv.inRange(img, min(lower, higher), max(lower, higher))\n",
        "\n",
        "def to_intensity(hue_angle):\n",
        "    '''Converts color angle in HUE definition into intensity value of brightness image in opencv\n",
        "    \n",
        "    Parameters\n",
        "    ----------\n",
        "    hue_angle : int\n",
        "        Angle in HUE definition.\n",
        "    Returns\n",
        "    -------\n",
        "    Integer value that represents the same HUE value but in opencv brightness image.\n",
        "    '''\n",
        "    return int(hue_angle * 0.5)\n",
        "\n",
        "def mask(img, mask_bin):\n",
        "    '''Masks colored image with binary mask. Output image is just logical AND between two images.'''\n",
        "    return cv.bitwise_and(img, img, mask = mask_bin)\n",
        "\n",
        "def find_contours(img_bin, min_area=0, max_area=None, fill=True):\n",
        "    '''Finds contours in binary image and filters them using their area. Then it draws binary image\n",
        "    from filtered contours. It counts contours as well.\n",
        "    \n",
        "    Parameters\n",
        "    ----------\n",
        "    img_bin : numpy.ndarray\n",
        "        Input binary image.\n",
        "    min_area : int\n",
        "        Size of contour that is used to filter all smaller contours out.\n",
        "    max_area : int\n",
        "        Size of contour that is used to filter all larger contours out.\n",
        "    Returns\n",
        "    -------\n",
        "    contour_drawn : numpy.ndarray\n",
        "        Output binary image with drawn filled filtered contours.\n",
        "    count : int\n",
        "        Number of found and filtered contours.\n",
        "    contours : list\n",
        "        Found contours.\n",
        "    '''\n",
        "    contours, _  = cv.findContours(img_bin, cv.RETR_EXTERNAL, cv.CHAIN_APPROX_SIMPLE)\n",
        "    if max_area is None:\n",
        "        contours =  [c for c in contours if cv.contourArea(c) > min_area]\n",
        "    else:\n",
        "        contours =  [c for c in contours if cv.contourArea(c) > min_area and cv.contourArea(c) < max_area]\n",
        "    thick = cv.FILLED\n",
        "    if not fill: thick = 2\n",
        "    contour_drawn = cv.drawContours(np.zeros(img_bin.shape, dtype=np.uint8), contours, -1, color=(255, 255, 255), thickness=thick)\n",
        "    return contour_drawn, len(contours), contours   \n",
        "\n",
        "def roundness(bin_im):\n",
        "    _, _, conts = find_contours(bin_im)\n",
        "    area = cv2.contourArea(conts[0])\n",
        "    _,radius = cv2.minEnclosingCircle(conts[0])\n",
        "    r = ShapeDescriptors.roundness(area, 2*radius)\n",
        "    if r > 1: r = 1\n",
        "    return r\n",
        "\n",
        "def m_increase(binary_image, size):\n",
        "    return cv.morphologyEx(binary_image, cv.MORPH_DILATE, cv.getStructuringElement(cv.MORPH_ELLIPSE, (size*2,size*2)))\n",
        "\n",
        "def m_decrease(binary_image, size):\n",
        "    return cv.morphologyEx(binary_image, cv.MORPH_ERODE, cv.getStructuringElement(cv.MORPH_ELLIPSE, (size*2,size*2)))\n"
      ],
      "execution_count": 2,
      "outputs": []
    },
    {
      "cell_type": "markdown",
      "metadata": {
        "id": "Pm0E6L1-1PYK",
        "colab_type": "text"
      },
      "source": [
        "## Nahrání obrázků do virtuální stroje na Google Colab serverech\n",
        "Aplikace Google Colab neběží na našich lokálních PC, ale na vzdálených serverech Googlu. Aplikace díky tomu nemá přístup k našim lokálním souborům, jako je např. námi nasnímaný obrázek. Ten je potřeba na servery Colabu nahrát. To lze provést buď v levém menu Google Colabu (**Files -> Upload**), nebo přes buňku níže.\n"
      ]
    },
    {
      "cell_type": "code",
      "metadata": {
        "id": "LeudOhLBOHqe",
        "colab_type": "code",
        "colab": {}
      },
      "source": [
        "files.upload()"
      ],
      "execution_count": null,
      "outputs": []
    },
    {
      "cell_type": "markdown",
      "metadata": {
        "id": "C90JqnKVJkh5",
        "colab_type": "text"
      },
      "source": [
        "## Zadání jednotlivých úkolů\n",
        "V této části  začíná doplňovací část týkající se algoritmů zpracování obrazu. Pokud vám nejsou nějaké pojmy jasné, zkuste si znovu projít teoretickou část. Pokud si nevíte rady, požádejte o pomoc cvičící.\n"
      ]
    },
    {
      "cell_type": "markdown",
      "metadata": {
        "id": "PfKhuWWzJkh6",
        "colab_type": "text"
      },
      "source": [
        "### 1) Načtěte obrázek z kamery\n",
        "Obrázek byste nyní měli mít nahrány na serverech Colabu. To lze zkontrolovat Unixovým příkazem ```ls```, který nám vypíše všechny soubory v aktuální pracovní složce. Název souboru je nutné následně předat do proměné ```image_path``` a využít funkci OpenCV [```cv.imread(...)```](https://www.geeksforgeeks.org/python-opencv-cv2-imread-method/) k načtení obrázku do paměti. Posledním krokem je kontrola načtení korektního načtení obrázku tím, že si jej zobrazíme přímo v prostředí Colabu.\n",
        "\n"
      ]
    },
    {
      "cell_type": "code",
      "metadata": {
        "id": "wBzaqzkOKQBJ",
        "colab_type": "code",
        "colab": {}
      },
      "source": [
        "!ls"
      ],
      "execution_count": null,
      "outputs": []
    },
    {
      "cell_type": "code",
      "metadata": {
        "ExecuteTime": {
          "end_time": "2019-08-19T13:51:31.936207Z",
          "start_time": "2019-08-19T13:51:29.977567Z"
        },
        "id": "gsN5BzLNJkh6",
        "colab_type": "code",
        "colab": {}
      },
      "source": [
        "image_path = \"\" ### doplňte cestu k obrázku\n",
        "image = ...(image_path) ### načtěte obrázek ze zvolené cesty\n",
        "...(image) ### vizualizujte načtený obrázek"
      ],
      "execution_count": null,
      "outputs": []
    },
    {
      "cell_type": "markdown",
      "metadata": {
        "id": "KVOHWQfkJkh-",
        "colab_type": "text"
      },
      "source": [
        "### 2) Segmentace objektů cílové barvy\n",
        "Použijte vytvořenou funkci na načtený obrázek a zobrazte výsledek. Načtený obrázek nejdříve převedeme do prostoru HSV a následně si pro segmentaci vybereme pouze jeden kanál a to hue (odstín barvy). Před tím ještě využijeme funkci pro odstranění šumu. Výsledkem by měla být binární maska objektů. které chceme počítat.\n",
        "\n",
        "Seznam proměných vystupující v algoritmu:\n",
        "- `velikost_filtru ` - velikost jádra mediánové filtru, který je použit pro odstraňování šumu \n",
        "- `spodni_hranice_uhlu ` - spodní hranice kanálu hue \n",
        "- `horni_hranice_uhl`- horní hranice kanálu hue\n",
        "\n",
        "Hodnoty kanálu hue, které je nutné použít pro segmentaci barvy je možné nalézt na obrázku níže.\n",
        "\n",
        "<center><img src=\"https://cwsimons.com/wp-content/uploads/2017/10/color_wheel_hsl-1.png\" alt=\"the name\" width=\"250\"/></center>"
      ]
    },
    {
      "cell_type": "code",
      "metadata": {
        "ExecuteTime": {
          "end_time": "2019-08-19T14:06:08.212114Z",
          "start_time": "2019-08-19T14:06:08.208091Z"
        },
        "id": "WZrqzBBfJkh-",
        "colab_type": "code",
        "colab": {}
      },
      "source": [
        "#@title Parametry segmentace { run: \"auto\" }\n",
        "\n",
        "velikost_filtru = 1 #@param {type:\"slider\", min:1, max:51, step:2}\n",
        "spodni_hranice_uhlu = 0 #@param {type:\"slider\", min:0, max:360, step:1}\n",
        "horni_hranice_uhlu = 360 #@param {type:\"slider\", min:0, max:360, step:1}\n",
        "\n",
        "def algorithm(img):\n",
        "    # Předzpracování obrazu\n",
        "    # ... převod do HSV\n",
        "    image = ...(img)\n",
        "    image = image[:,:,0]\n",
        "    \n",
        "    # ... filtrace, odstranění šumu\n",
        "    image = ...(image, velikost_filtru)\n",
        "    \n",
        "    # Zde je potřeba vytvořit binární obrázek\n",
        "    # ... vhodné funkce jsou z části segmentace\n",
        "    img = ...(image, to_intensity(spodni_hranice_uhlu), to_intensity(horni_hranice_uhlu))\n",
        "    return img\n",
        "\n",
        "binary_image = algorithm(image)\n",
        "...(binary_image) ### zobrazte výsledný obrázek"
      ],
      "execution_count": null,
      "outputs": []
    },
    {
      "cell_type": "markdown",
      "metadata": {
        "id": "hBQxIdGKH8uu",
        "colab_type": "text"
      },
      "source": [
        "#### 3) Rozpojení objektů pomocí morfologických operací\n",
        "Binární maska v sobě nyní může obsahovat ještě obrysy jiných objektů a případně další chyby, které jsme nebyli schopni potlačit segmentací podle barvy. Pro částečné odstranění těchto neduhů využijeme morfologické operace. Výsledkem by měla být vylepšená binární maska obsahující separované objekty. \n",
        "\n",
        "Seznam proměných vystupující v algoritmu:\n",
        "- `velikost_filtru ` - velikost jádra morfologické operace"
      ]
    },
    {
      "cell_type": "code",
      "metadata": {
        "ExecuteTime": {
          "end_time": "2019-08-19T14:06:09.897184Z",
          "start_time": "2019-08-19T14:06:09.049876Z"
        },
        "id": "ZAiX0B-ZJkiE",
        "colab_type": "code",
        "colab": {}
      },
      "source": [
        "#@title Parametry segmentace { run: \"auto\" }\n",
        "\n",
        "velikost_filtru = 3 #@param {type:\"slider\", min:1, max:51, step:2}\n",
        "\n",
        "binary_image_morph = binary_image\n",
        "\n",
        "binary_image_morph = ...(binary_image_morph, velikost_filtru) ### použijte funkci pro morfologickou operaci\n",
        "...(binary_image_morph) ### zobrazte výsledný obrázek"
      ],
      "execution_count": null,
      "outputs": []
    },
    {
      "cell_type": "markdown",
      "metadata": {
        "id": "BUeSEwYpJkiH",
        "colab_type": "text"
      },
      "source": [
        "#### 4) Počítání binárních objektů\n",
        "Nyní bychom ve snímku měli mít v binární masce pouze chtěné objekty. Díky tomu, že se jedná o binární masku, tak můžeme aplikovat algoritmus detekce kontur. Následně se vypíše jejich počet\n",
        "\n",
        "##### Bonus 1\n",
        "Pokud vám ve snímku zbyly ještě nějaké malé objekty, které vám v tom dělají nepořádek. Tak funkce pro detekce kontur má ještě další parametry, které dovolují filtrování podle plochy kontury.\n",
        "##### Bonus 2\n",
        "Pokud vám ve snímku zbyly další nerelevatní objekty podivného tvaru, můžete se zamyslet nad tím, jak využít znalost toho, že chceme detekovat pouze kulaté objekty. Nápověda: funkce `roundness` \n",
        "\n"
      ]
    },
    {
      "cell_type": "code",
      "metadata": {
        "ExecuteTime": {
          "end_time": "2019-08-19T14:08:27.640303Z",
          "start_time": "2019-08-19T14:08:27.594252Z"
        },
        "id": "2G8x-0E-JkiI",
        "colab_type": "code",
        "colab": {}
      },
      "source": [
        "_, count, contours = ...(binary_image_morph) ### spočtěte počet binárních objektů\n",
        "print('Počet objektů je: ' +  str(count))"
      ],
      "execution_count": null,
      "outputs": []
    },
    {
      "cell_type": "markdown",
      "metadata": {
        "id": "WVsxAPfVJkiN",
        "colab_type": "text"
      },
      "source": [
        "#### 5) Vizualizace výsledné segmentované masky cílových objektů\n",
        "Nyní máme k dispozici originální snímek a upravenou binární masku, kterou můžeme využít pro vizualizaci spočítaných objektů. \n"
      ]
    },
    {
      "cell_type": "code",
      "metadata": {
        "ExecuteTime": {
          "end_time": "2019-08-19T08:56:15.608044Z",
          "start_time": "2019-08-19T08:56:15.519134Z"
        },
        "id": "aoIlcxZRJkiN",
        "colab_type": "code",
        "colab": {}
      },
      "source": [
        "result = ...(image, binary_image_morph) ### funkce na \"vymaskování\" obrázku binární maskou\n",
        "...(result) ### zobrazte obrázek"
      ],
      "execution_count": null,
      "outputs": []
    }
  ]
}